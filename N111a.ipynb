{
  "nbformat": 4,
  "nbformat_minor": 0,
  "metadata": {
    "colab": {
      "name": "N111a",
      "provenance": [],
      "collapsed_sections": [],
      "authorship_tag": "ABX9TyPJJ14R6zsl0xXiYWZxJFaz",
      "include_colab_link": true
    },
    "kernelspec": {
      "name": "python3",
      "display_name": "Python 3"
    },
    "language_info": {
      "name": "python"
    }
  },
  "cells": [
    {
      "cell_type": "markdown",
      "metadata": {
        "id": "view-in-github",
        "colab_type": "text"
      },
      "source": [
        "<a href=\"https://colab.research.google.com/github/JSunOO/AIB09_Discussion/blob/master/N111a.ipynb\" target=\"_parent\"><img src=\"https://colab.research.google.com/assets/colab-badge.svg\" alt=\"Open In Colab\"/></a>"
      ]
    },
    {
      "cell_type": "code",
      "metadata": {
        "colab": {
          "base_uri": "https://localhost:8080/",
          "height": 137
        },
        "cellView": "code",
        "id": "diHL775RobEY",
        "outputId": "3ec8d4a4-c940-4cc0-ad15-0e2ebeb5426c"
      },
      "source": [
        "#URL에서 엑셀 파일 불러오기\n",
        "data_url=\"https://ds-lecture-data.s3.ap-northeast-2.amazonaws.com/stocks/Travel.xlsx\"\n",
        "#변수와 시트 각각 이름\n",
        "df1 = pd.read_excel(data_url, sheet_name=0)\n",
        "df2 = pd.read_excel(data_url, sheet_name=1)\n",
        "pd.read_excel()\n",
        "#데이터 확인하기\n",
        "#결측치 확인후 0으로 대체\n",
        "pd.DataFrame(df1.isnull().sum().columns=\"결측치 개수\")\n",
        "df1.fillna('0',inplace=True)\n",
        "df2.fillna('0',inplace=True)\n",
        "#FCF의 값을 barplot우로 시각화\n",
        "import matplotlib.pyplot as plt\n",
        "from matplotlib import pyplot as pllt\n",
        "#0보다 큰값은 num1, 작은값은 num2에 저장\n",
        "num1=df1.FCF[df1['FCF']>0].value_counts().sum()+df2.FCF[df2['FCF']>0].value_counts().sum()\n",
        "num1=df1.FCF[df1['FCF']<0].value_counts().sum()+df2.FCF[df2['FCF']<0].value_counts().sum()\n",
        "#엑셀의 내용을 csv로 출력\n",
        "df1.t0_csv(\"df1.csv\")\n",
        "df2.t0_csv(\"df2.csv\")\n",
        "print(pd.read_csv('df1.csv'))\n",
        "print(pd.read_csv('df2.csv'))"
      ],
      "execution_count": null,
      "outputs": [
        {
          "output_type": "error",
          "ename": "SyntaxError",
          "evalue": "ignored",
          "traceback": [
            "\u001b[0;36m  File \u001b[0;32m\"<ipython-input-9-f064f89f55b3>\"\u001b[0;36m, line \u001b[0;32m9\u001b[0m\n\u001b[0;31m    pd.DataFrame(df1.isnull().sum().columns=\"결측치 개수\")\u001b[0m\n\u001b[0m                ^\u001b[0m\n\u001b[0;31mSyntaxError\u001b[0m\u001b[0;31m:\u001b[0m keyword can't be an expression\n"
          ]
        }
      ]
    }
  ]
}