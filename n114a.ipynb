{
  "nbformat": 4,
  "nbformat_minor": 0,
  "metadata": {
    "colab": {
      "name": "n114a",
      "provenance": [],
      "collapsed_sections": [],
      "authorship_tag": "ABX9TyO5OjSEDCNj+uYKrJb9FdWA",
      "include_colab_link": true
    },
    "kernelspec": {
      "name": "python3",
      "display_name": "Python 3"
    },
    "language_info": {
      "name": "python"
    }
  },
  "cells": [
    {
      "cell_type": "markdown",
      "metadata": {
        "id": "view-in-github",
        "colab_type": "text"
      },
      "source": [
        "<a href=\"https://colab.research.google.com/github/JSunOO/AIB09_Discussion/blob/master/n114a.ipynb\" target=\"_parent\"><img src=\"https://colab.research.google.com/assets/colab-badge.svg\" alt=\"Open In Colab\"/></a>"
      ]
    },
    {
      "cell_type": "code",
      "metadata": {
        "colab": {
          "base_uri": "https://localhost:8080/"
        },
        "id": "Bx7yzmNMmCSn",
        "outputId": "bb6b5763-3dbf-479c-848c-99896c0ee6fd"
      },
      "source": [
        "# 1. Dataset 불러오기\n",
        "import pandas as pd\n",
        "import seaborn as sns\n",
        "import numpy as np\n",
        "np.random.seed(42)\n",
        "\n",
        "df_iris = sns.load_dataset('iris')\n",
        "ds = df_iris.shape\n",
        "res1 = ds[0]/ds[1]\n",
        "res1"
      ],
      "execution_count": 2,
      "outputs": [
        {
          "output_type": "execute_result",
          "data": {
            "text/plain": [
              "30.0"
            ]
          },
          "metadata": {},
          "execution_count": 2
        }
      ]
    },
    {
      "cell_type": "code",
      "metadata": {
        "id": "y9Pz6MP5GMPF"
      },
      "source": [
        "# 2. x 구하기\n",
        "df_iris = pd.DataFrame(df_iris.sepal_length)\n",
        "df_iris.columns = ['x']"
      ],
      "execution_count": 3,
      "outputs": []
    },
    {
      "cell_type": "code",
      "metadata": {
        "colab": {
          "base_uri": "https://localhost:8080/"
        },
        "id": "OwyU7IeXLsUW",
        "outputId": "e1672852-9799-4e96-fe16-d566b08f43ab"
      },
      "source": [
        "# 3. 기초 미분(1)\n",
        "e=np.exp(1)\n",
        "def num_one(x):\n",
        "\n",
        "  return 20*(x**4) + 27*(x**2) + 2*e**x\n",
        "\n",
        "df_iris['derivative_one'] = df_iris['x'].apply(num_one)\n",
        "\n",
        "res2 = df_iris['derivative_one'].sum()\n",
        "res2.round(3)"
      ],
      "execution_count": 14,
      "outputs": [
        {
          "output_type": "execute_result",
          "data": {
            "text/plain": [
              "4220673.053"
            ]
          },
          "metadata": {},
          "execution_count": 14
        }
      ]
    },
    {
      "cell_type": "code",
      "metadata": {
        "id": "4yRm3dl-a1Bl",
        "colab": {
          "base_uri": "https://localhost:8080/"
        },
        "outputId": "40792986-6c3e-449f-8148-e6535c2d8ec3"
      },
      "source": [
        "# 3.기초미분(2)\n",
        "from scipy.misc import derivative\n",
        "def f(x):\n",
        "  \n",
        "  return 4*(x**5) + 9*(x**3) + e*(x**2) - 7\n",
        "\n",
        "df_iris['deriataive_two'] = derivative(f, df_iris['x'], dx=1e-7)\n",
        "\n",
        "res3 = df_iris['deriataive_two'].sum()\n",
        "res3.round(3)"
      ],
      "execution_count": 11,
      "outputs": [
        {
          "output_type": "execute_result",
          "data": {
            "text/plain": [
              "4077643.121"
            ]
          },
          "metadata": {},
          "execution_count": 11
        }
      ]
    },
    {
      "cell_type": "code",
      "metadata": {
        "id": "ypzCnmR_cii3"
      },
      "source": [
        "# 4. 미분 연습\n"
      ],
      "execution_count": null,
      "outputs": []
    }
  ]
}