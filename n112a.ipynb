{
  "nbformat": 4,
  "nbformat_minor": 0,
  "metadata": {
    "colab": {
      "name": "n112a",
      "provenance": [],
      "authorship_tag": "ABX9TyMUML37mEomAsvSOxgDGaIL",
      "include_colab_link": true
    },
    "kernelspec": {
      "name": "python3",
      "display_name": "Python 3"
    },
    "language_info": {
      "name": "python"
    }
  },
  "cells": [
    {
      "cell_type": "markdown",
      "metadata": {
        "id": "view-in-github",
        "colab_type": "text"
      },
      "source": [
        "<a href=\"https://colab.research.google.com/github/JSunOO/AIB09_Discussion/blob/master/n112a.ipynb\" target=\"_parent\"><img src=\"https://colab.research.google.com/assets/colab-badge.svg\" alt=\"Open In Colab\"/></a>"
      ]
    },
    {
      "cell_type": "code",
      "metadata": {
        "id": "3CnXXOUJpBMR"
      },
      "source": [
        "import pandas as pd\n",
        "df=pd.read_csv('https://ds-lecture-data.s3.ap-northeast-2.amazonaws.com/kt%26g/kt%26g.csv')\n",
        "df"
      ],
      "execution_count": null,
      "outputs": []
    },
    {
      "cell_type": "code",
      "metadata": {
        "id": "tC5LngC_qieQ"
      },
      "source": [
        "df.dtypes"
      ],
      "execution_count": null,
      "outputs": []
    },
    {
      "cell_type": "code",
      "metadata": {
        "id": "LFK__5iwr6ui"
      },
      "source": [
        "df[\"자본총계(비지배)\"]"
      ],
      "execution_count": null,
      "outputs": []
    },
    {
      "cell_type": "code",
      "metadata": {
        "id": "1WG7xg-LNgfW"
      },
      "source": [
        "#정수형으로 변환\n",
        "def column(col):\n",
        "  t2=[]\n",
        "  for i in col:\n",
        "    t1 = int(i.split(',', ''))\n",
        "    t2.append(t1)\n",
        "  return t2\n"
      ],
      "execution_count": null,
      "outputs": []
    },
    {
      "cell_type": "code",
      "metadata": {
        "id": "zPFdETc2ZIPD"
      },
      "source": [
        "#영업이익률 = (영업이익 / 매출액) * 100\n",
        "df[\"영업이익\"] = df[\"영업이익\"].apply(column)\n",
        "df[\"매출액\"] = column(df[\"매출액\"]).apply(column)\n",
        "df[\"영업이익률2\"] = round(( df[\"영업이익\"] / df[\"매출액\"]) * 100, 2)\n",
        "df[\"영업이익률2\"]"
      ],
      "execution_count": null,
      "outputs": []
    },
    {
      "cell_type": "code",
      "metadata": {
        "colab": {
          "base_uri": "https://localhost:8080/",
          "height": 112
        },
        "id": "DoMkDEVVc7LU",
        "outputId": "31ed9c30-8674-4b19-d32b-d6a4c54324c3"
      },
      "source": [
        "# PDR : stock/(tam(market_share/100))100\n",
        "d2 = {'구분' : ['18년', '19년'], '종가' : [101500, 93800], '발행주식수' : [137292497, 137292497], '시가총액' : [13935188445500, 12878036218600], '시장점유율' : [62.0, 63.5], 'PDR' : ['','']}\n",
        "df2 = pd.DataFrame(data=d2)\n",
        "df2['PDR'] = df2['발행주식수']  / (df2['시가총액'] * (df2['시장점유율'] / 100)) * 100\n",
        "df2"
      ],
      "execution_count": null,
      "outputs": [
        {
          "output_type": "execute_result",
          "data": {
            "text/html": [
              "<div>\n",
              "<style scoped>\n",
              "    .dataframe tbody tr th:only-of-type {\n",
              "        vertical-align: middle;\n",
              "    }\n",
              "\n",
              "    .dataframe tbody tr th {\n",
              "        vertical-align: top;\n",
              "    }\n",
              "\n",
              "    .dataframe thead th {\n",
              "        text-align: right;\n",
              "    }\n",
              "</style>\n",
              "<table border=\"1\" class=\"dataframe\">\n",
              "  <thead>\n",
              "    <tr style=\"text-align: right;\">\n",
              "      <th></th>\n",
              "      <th>구분</th>\n",
              "      <th>종가</th>\n",
              "      <th>발행주식수</th>\n",
              "      <th>시가총액</th>\n",
              "      <th>시장점유율</th>\n",
              "      <th>PDR</th>\n",
              "    </tr>\n",
              "  </thead>\n",
              "  <tbody>\n",
              "    <tr>\n",
              "      <th>0</th>\n",
              "      <td>18년</td>\n",
              "      <td>101500</td>\n",
              "      <td>137292497</td>\n",
              "      <td>13935188445500</td>\n",
              "      <td>62.0</td>\n",
              "      <td>0.001589</td>\n",
              "    </tr>\n",
              "    <tr>\n",
              "      <th>1</th>\n",
              "      <td>19년</td>\n",
              "      <td>93800</td>\n",
              "      <td>137292497</td>\n",
              "      <td>12878036218600</td>\n",
              "      <td>63.5</td>\n",
              "      <td>0.001679</td>\n",
              "    </tr>\n",
              "  </tbody>\n",
              "</table>\n",
              "</div>"
            ],
            "text/plain": [
              "    구분      종가      발행주식수            시가총액  시장점유율       PDR\n",
              "0  18년  101500  137292497  13935188445500   62.0  0.001589\n",
              "1  19년   93800  137292497  12878036218600   63.5  0.001679"
            ]
          },
          "metadata": {},
          "execution_count": 59
        }
      ]
    }
  ]
}